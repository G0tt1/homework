{
 "cells": [
  {
   "cell_type": "markdown",
   "id": "2ff1d456",
   "metadata": {},
   "source": [
    "# Homework №1"
   ]
  },
  {
   "cell_type": "markdown",
   "id": "cf0cf7f0",
   "metadata": {},
   "source": [
    "## Exercise 1"
   ]
  },
  {
   "cell_type": "markdown",
   "id": "7523b35e",
   "metadata": {},
   "source": [
    "Напишите код на Python в среде Jupyter Notebook для решения следующей задачи.\n",
    "Дана переменная, в которой хранится четырёхзначное число — год. Необходимо\n",
    "написать программу, которая выведет, является этот год високосным или обычным."
   ]
  },
  {
   "cell_type": "code",
   "execution_count": 7,
   "id": "bb2c7668",
   "metadata": {},
   "outputs": [
    {
     "name": "stdout",
     "output_type": "stream",
     "text": [
      "Високосный год\n"
     ]
    }
   ],
   "source": [
    "year = 2024\n",
    "print(\"Високосный год\" if year % 4 == 0 and year % 100 != 0 or year % 400 == 0 else \"Обычный год\")"
   ]
  },
  {
   "cell_type": "markdown",
   "id": "53962124",
   "metadata": {},
   "source": [
    "## Exercise 2"
   ]
  },
  {
   "cell_type": "markdown",
   "id": "eb21ea9c",
   "metadata": {},
   "source": [
    "Дана переменная, в которой хранится шестизначное число — номер проездного\n",
    "билета. Напишите программу, которая будет определять, является ли этот билет\n",
    "счастливым. Билет считается счастливым, если сумма первых трёх цифр совпадает с\n",
    "суммой последних трёх цифр номера."
   ]
  },
  {
   "cell_type": "code",
   "execution_count": 8,
   "id": "ab77a782",
   "metadata": {},
   "outputs": [
    {
     "name": "stdout",
     "output_type": "stream",
     "text": [
      "Счастливый билет\n"
     ]
    }
   ],
   "source": [
    "number = 123123\n",
    "print(\"Счастливый билет\" if number // 100000 + number // 10000 % 10 + number // 1000 % 10 == number // 100 % 10 + number // 10 % 10 + number % 10 else \"Несчастливый билет\")"
   ]
  }
 ],
 "metadata": {
  "kernelspec": {
   "display_name": ".venv",
   "language": "python",
   "name": "python3"
  },
  "language_info": {
   "codemirror_mode": {
    "name": "ipython",
    "version": 3
   },
   "file_extension": ".py",
   "mimetype": "text/x-python",
   "name": "python",
   "nbconvert_exporter": "python",
   "pygments_lexer": "ipython3",
   "version": "3.12.3"
  }
 },
 "nbformat": 4,
 "nbformat_minor": 5
}
