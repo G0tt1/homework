{
 "cells": [
  {
   "cell_type": "markdown",
   "id": "0d860e00",
   "metadata": {},
   "source": [
    "# Homework 2"
   ]
  },
  {
   "cell_type": "markdown",
   "id": "3b5380db",
   "metadata": {},
   "source": [
    "## Exercise 1"
   ]
  },
  {
   "cell_type": "markdown",
   "id": "b1d37a8b",
   "metadata": {},
   "source": [
    "Напишите код на Python в среде Jupyter Notebook или PyCharm для решения\n",
    "следующей задачи.\n",
    "Дана переменная, в которой хранится слово из латинских букв. Напишите код, который\n",
    "выводит на экран:\n",
    "среднюю букву, если число букв в слове нечётное;\n",
    "две средних буквы, если число букв чётное."
   ]
  },
  {
   "cell_type": "code",
   "execution_count": 67,
   "id": "ac7ceac7",
   "metadata": {},
   "outputs": [
    {
     "name": "stdout",
     "output_type": "stream",
     "text": [
      "es\n"
     ]
    }
   ],
   "source": [
    "word = \"test\"\n",
    "print(word[len(word) // 2 - 1:len(word) // 2 + 1] if len(word) % 2 == 0 else word[len(word) // 2])"
   ]
  },
  {
   "cell_type": "markdown",
   "id": "3c7ddda1",
   "metadata": {},
   "source": [
    "## Exercise 2"
   ]
  },
  {
   "cell_type": "markdown",
   "id": "8258c893",
   "metadata": {},
   "source": [
    "Напишите код на Python в среде Jupyter Notebook или PyCharm для решения\n",
    "следующей задачи.\n",
    "Вы делаете MVP (минимально жизнеспособный продукт) dating-сервиса.\n",
    "У вас есть список юношей и девушек.\n",
    "Выдвигаем гипотезу: лучшие рекомендации получатся, если просто отсортировать\n",
    "имена по алфавиту и познакомить людей с одинаковыми индексами после сортировки.\n",
    "Но вы не будете никого знакомить, если кто-то может остаться без пары."
   ]
  },
  {
   "cell_type": "code",
   "execution_count": 68,
   "id": "61110b9d",
   "metadata": {},
   "outputs": [
    {
     "name": "stdout",
     "output_type": "stream",
     "text": [
      "Идеальные пары:\n",
      "Alex и Emma\n",
      "Arthur и Kate\n",
      "John и Kira\n",
      "Peter и Liza\n",
      "Richard и Trisha\n"
     ]
    }
   ],
   "source": [
    "boys = [\"Peter\", \"Alex\", \"John\", \"Arthur\", \"Richard\"]\n",
    "girls = [\"Kate\", \"Liza\", \"Kira\", \"Emma\", \"Trisha\"]\n",
    "print(\"Внимание, кто-то может остаться без пары\" if len(boys) != len(girls) else \"Идеальные пары:\\n\" + \"\\n\".join(f\"{b} и {g}\" for b, g in zip(sorted(boys), sorted(girls))))"
   ]
  }
 ],
 "metadata": {
  "kernelspec": {
   "display_name": ".venv",
   "language": "python",
   "name": "python3"
  },
  "language_info": {
   "codemirror_mode": {
    "name": "ipython",
    "version": 3
   },
   "file_extension": ".py",
   "mimetype": "text/x-python",
   "name": "python",
   "nbconvert_exporter": "python",
   "pygments_lexer": "ipython3",
   "version": "3.12.3"
  }
 },
 "nbformat": 4,
 "nbformat_minor": 5
}
